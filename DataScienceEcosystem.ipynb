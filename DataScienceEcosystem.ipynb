{
 "cells": [
  {
   "cell_type": "markdown",
   "id": "5498b91b-ba5a-4a3d-a599-51b9db04b8e4",
   "metadata": {},
   "source": [
    "# Data Science Tools and Ecosystem"
   ]
  },
  {
   "cell_type": "markdown",
   "id": "544d16f4-5fe9-4f26-ac58-d39921eac29b",
   "metadata": {},
   "source": [
    "In this notebood, Data Science Tools and Ecosystem are summarised."
   ]
  },
  {
   "cell_type": "markdown",
   "id": "f11c2c6a-4954-4f67-8a08-cd136d823d03",
   "metadata": {},
   "source": [
    "__Objectives:__\n",
    "- Popular languages for data science\n",
    "- Commonly used libraries\n",
    "- Data science tools"
   ]
  },
  {
   "cell_type": "markdown",
   "id": "863dda07-c25b-44f6-8c95-c71e0df58213",
   "metadata": {},
   "source": [
    "## Author\n",
    "Stephen Manuel"
   ]
  },
  {
   "cell_type": "markdown",
   "id": "b731cdb9-7769-417a-9788-5dc1e760f539",
   "metadata": {},
   "source": [
    "Some of the popular languages are:\n",
    "1. Python\n",
    "2. R\n",
    "3. SQL"
   ]
  },
  {
   "cell_type": "markdown",
   "id": "73652783-8cad-4ae0-b31d-20bedaa1c0fc",
   "metadata": {},
   "source": [
    "Some of the commonly used libraries include:\n",
    "1. Pandas\n",
    "2. NumPy\n",
    "3. Matplotlib\n",
    "4. ggplot2"
   ]
  },
  {
   "cell_type": "markdown",
   "id": "9766061b-fc4d-4fe3-8288-365bd707aeaa",
   "metadata": {},
   "source": [
    "|Data Science Tools|\n",
    "|------|\n",
    "|Jupyter| \n",
    "|RStudio| \n",
    "|ApacheSpark|"
   ]
  },
  {
   "cell_type": "markdown",
   "id": "174b8c52-08ec-4963-8683-a13fee5900b1",
   "metadata": {},
   "source": [
    "### Below are a few examples of evaluating arithmetic expressions:"
   ]
  },
  {
   "cell_type": "code",
   "execution_count": 5,
   "id": "f58c54df-4526-44f8-990a-748d9e1aacc9",
   "metadata": {},
   "outputs": [
    {
     "data": {
      "text/plain": [
       "17"
      ]
     },
     "execution_count": 5,
     "metadata": {},
     "output_type": "execute_result"
    }
   ],
   "source": [
    "# This is a simple arithmetic expression to mulitply then add integers\n",
    "(3*4)+5"
   ]
  },
  {
   "cell_type": "code",
   "execution_count": 6,
   "id": "9010da46-253d-480a-951e-23b0693fee46",
   "metadata": {},
   "outputs": [
    {
     "data": {
      "text/plain": [
       "3.3333333333333335"
      ]
     },
     "execution_count": 6,
     "metadata": {},
     "output_type": "execute_result"
    }
   ],
   "source": [
    "# This will convert 200 minutes to hours by dividing by 60\n",
    "200/60"
   ]
  }
 ],
 "metadata": {
  "kernelspec": {
   "display_name": "Python 3 (ipykernel)",
   "language": "python",
   "name": "python3"
  },
  "language_info": {
   "codemirror_mode": {
    "name": "ipython",
    "version": 3
   },
   "file_extension": ".py",
   "mimetype": "text/x-python",
   "name": "python",
   "nbconvert_exporter": "python",
   "pygments_lexer": "ipython3",
   "version": "3.12.8"
  }
 },
 "nbformat": 4,
 "nbformat_minor": 5
}
